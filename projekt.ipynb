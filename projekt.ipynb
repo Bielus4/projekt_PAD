{
 "cells": [
  {
   "cell_type": "code",
   "execution_count": 1,
   "id": "64c1b94e-9e0b-426b-b266-c38d60892155",
   "metadata": {},
   "outputs": [
    {
     "data": {
      "text/html": [
       "\n",
       "        <iframe\n",
       "            width=\"100%\"\n",
       "            height=\"650\"\n",
       "            src=\"http://127.0.0.1:8050/\"\n",
       "            frameborder=\"0\"\n",
       "            allowfullscreen\n",
       "            \n",
       "        ></iframe>\n",
       "        "
      ],
      "text/plain": [
       "<IPython.lib.display.IFrame at 0x2759e75c6d0>"
      ]
     },
     "metadata": {},
     "output_type": "display_data"
    }
   ],
   "source": [
    "import pandas as pd\n",
    "import numpy as np\n",
    "from scipy import stats\n",
    "from sklearn.model_selection import train_test_split\n",
    "from sklearn.linear_model import LinearRegression\n",
    "from sklearn.feature_selection import RFE\n",
    "import plotly.express as px\n",
    "import dash\n",
    "from dash import dcc, html, Input, Output\n",
    "\n",
    "# Wczytanie danych\n",
    "sciezka_pliku = 'messy_data.csv'\n",
    "dane = pd.read_csv(sciezka_pliku)\n",
    "\n",
    "# Czyszczenie i przygotowanie danych\n",
    "dane.columns = [col.strip() for col in dane.columns]  # Usunięcie spacji z nazw kolumn\n",
    "dane = dane.drop_duplicates()\n",
    "dane['clarity'] = dane['clarity'].str.lower()\n",
    "dane['color'] = dane['color'].str.lower()\n",
    "dane['cut'] = dane['cut'].str.lower()\n",
    "\n",
    "kolumny_numeryczne = ['carat', 'x dimension', 'y dimension', 'z dimension', 'depth', 'table', 'price']\n",
    "dane[kolumny_numeryczne] = dane[kolumny_numeryczne].apply(pd.to_numeric, errors='coerce')\n",
    "dane = dane.dropna(subset=['carat'])\n",
    "\n",
    "for kolumna in kolumny_numeryczne:\n",
    "    if kolumna != 'carat':\n",
    "        dane[kolumna].fillna(dane[kolumna].median(), inplace=True)\n",
    "\n",
    "# Obsługa wartości odstających\n",
    "z_wyniki = np.abs(stats.zscore(dane[kolumny_numeryczne]))\n",
    "do_usuniecia = (z_wyniki >= 3).any(axis=1)\n",
    "dane = dane[~do_usuniecia]\n",
    "\n",
    "# Budowa modelu regresji\n",
    "X = dane[['carat', 'x dimension', 'y dimension', 'z dimension', 'depth', 'table']]\n",
    "y = dane['price']\n",
    "X_treningowe, X_testowe, y_treningowe, y_testowe = train_test_split(X, y, test_size=0.2, random_state=0)\n",
    "model = LinearRegression().fit(X_treningowe, y_treningowe)\n",
    "\n",
    "selektor = RFE(model, n_features_to_select=4)\n",
    "selektor.fit(X, y)\n",
    "wybrane_cechy = []\n",
    "for i in range(len(X.columns)):\n",
    "    if selektor.support_[i]:\n",
    "        wybrane_cechy.append(X.columns[i])\n",
    "\n",
    "# Tworzenie dashboardu\n",
    "aplikacja = dash.Dash(__name__)\n",
    "\n",
    "aplikacja.layout = html.Div([\n",
    "    html.H1(\"Analiza danych diamentów\"),\n",
    "    dcc.Graph(figure=px.histogram(dane, x='carat')),\n",
    "    dcc.Graph(figure=px.scatter(dane, x='carat', y='price', color='clarity')),\n",
    "    dcc.Graph(figure=px.scatter(x=y_testowe, y=model.predict(X_testowe), labels={'x': 'Cena rzeczywista', 'y': 'Cena przewidywana'})),\n",
    "    html.Label('Wybierz zmienną:'),\n",
    "    dcc.Dropdown(id='wybor-zmiennej', options=[{'label': cecha, 'value': cecha} for cecha in wybrane_cechy], value='carat'),\n",
    "    dcc.Graph(id='wykres-zmiennej')\n",
    "])\n",
    "\n",
    "@aplikacja.callback(Output('wykres-zmiennej', 'figure'), Input('wybor-zmiennej', 'value'))\n",
    "def aktualizuj_wykres(wybrana_zmienna):\n",
    "    wykres = px.scatter(dane, x=wybrana_zmienna, y='price', color='clarity')\n",
    "    return wykres\n",
    "\n",
    "# Uruchomienie aplikacji dashboard\n",
    "if __name__ == '__main__':\n",
    "    aplikacja.run_server(debug=True)\n"
   ]
  }
 ],
 "metadata": {
  "kernelspec": {
   "display_name": "Python 3 (ipykernel)",
   "language": "python",
   "name": "python3"
  },
  "language_info": {
   "codemirror_mode": {
    "name": "ipython",
    "version": 3
   },
   "file_extension": ".py",
   "mimetype": "text/x-python",
   "name": "python",
   "nbconvert_exporter": "python",
   "pygments_lexer": "ipython3",
   "version": "3.11.3"
  }
 },
 "nbformat": 4,
 "nbformat_minor": 5
}
